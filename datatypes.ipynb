{
 "cells": [
  {
   "cell_type": "markdown",
   "metadata": {},
   "source": [
    "# DataTypes in Python"
   ]
  },
  {
   "cell_type": "code",
   "execution_count": 12,
   "metadata": {},
   "outputs": [
    {
     "name": "stdout",
     "output_type": "stream",
     "text": [
      "210\n",
      "190\n",
      "2000\n",
      "20.0\n"
     ]
    }
   ],
   "source": [
    "num_1 = int(input(\"Enter first number: \"))\n",
    "num_2 = int(input(\"Enter second number: \"))\n",
    "\n",
    "\n",
    "add =     num_1     +   num_2\n",
    "sub =     num_1     -   num_2\n",
    "divide =  num_1     /   num_2\n",
    "muliply = num_1     *   num_2\n",
    "\n",
    "\n",
    "print(add)\n",
    "print(sub)\n",
    "print(muliply)\n",
    "print(divide)"
   ]
  },
  {
   "cell_type": "code",
   "execution_count": null,
   "metadata": {},
   "outputs": [
    {
     "data": {
      "text/plain": [
       "8"
      ]
     },
     "execution_count": 16,
     "metadata": {},
     "output_type": "execute_result"
    }
   ],
   "source": [
    "2 * 2 * 2\n",
    "2 ** 3"
   ]
  },
  {
   "cell_type": "code",
   "execution_count": 14,
   "metadata": {},
   "outputs": [
    {
     "name": "stdout",
     "output_type": "stream",
     "text": [
      "\n",
      "\n",
      "Hello Faraz your current age is 28\n",
      "You will become 128 after 100 years.\n",
      "You will become 128 after 100 years.\n",
      "You will become 128 after 100 years.\n",
      "You will become 128 after 100 years.\n",
      "\n",
      "\n",
      "\n"
     ]
    }
   ],
   "source": [
    "name = \"faraz\"\n",
    "age = 28\n",
    "\n",
    "msg = \"Hello \" + name.title() + \" your current age is \" + str(age) + \".\"\n",
    "msg += \"\\nYou will become \" + str(age + 100) + \" after 100 years.\"\n",
    "\n",
    "# print(msg)\n",
    "\n",
    "\n",
    "msg = f\"Hello {name.title()} your current age is {age}\"\n",
    "msg += f\"\\nYou will become {age + 100} after 100 years.\"\n",
    "\n",
    "msg = f\"\"\"\n",
    "\n",
    "Hello {name.title()} your current age is {age}\n",
    "You will become {age + 100} after 100 years.\n",
    "You will become {age + 100} after 100 years.\n",
    "You will become {age + 100} after 100 years.\n",
    "You will become {age + 100} after 100 years.\n",
    "\n",
    "\n",
    "\"\"\"\n",
    "\n",
    "print(msg)\n"
   ]
  },
  {
   "cell_type": "code",
   "execution_count": null,
   "metadata": {},
   "outputs": [
    {
     "name": "stdout",
     "output_type": "stream",
     "text": [
      "red\n",
      "green\n",
      "blue\n",
      "sofa\n",
      "monitor\n",
      "table\n",
      "['dog', 'cat', 'cow']\n",
      "['dog', 'cat', 'cow']\n",
      "['dog', 'cat', 'cow']\n"
     ]
    }
   ],
   "source": [
    "colors = [\"red\", \"green\", \"blue\"]\n",
    "items =  [\"sofa\", \"monitor\", \"table\"]\n",
    "animals = [\"dog\", \"cat\", \"cow\"]\n",
    "\n",
    "for color in colors:\n",
    "    print(color)\n",
    "   \n",
    "for item in items:\n",
    "    print(item)\n",
    "\n",
    "for animal in animals:\n",
    "    print(animals)\n",
    "\n",
    "# list \n",
    "# - how to access each element using positive and neg indexing.\n",
    "# - apply crud\n",
    "# - how to slice a list\n",
    "# - start, stop and step in list slicing.\n",
    "# - 11 methods of list.\n",
    "# - concatinate list\n",
    "# - list comprehension.\n",
    "\n",
    "\n",
    "# range (start, stop, step)"
   ]
  },
  {
   "cell_type": "code",
   "execution_count": 32,
   "metadata": {},
   "outputs": [
    {
     "name": "stdout",
     "output_type": "stream",
     "text": [
      "0\n",
      "1\n",
      "2\n",
      "3\n",
      "4\n",
      "0\n",
      "1\n",
      "2\n",
      "3\n",
      "4\n"
     ]
    }
   ],
   "source": [
    "nums = [0,1,2,3,4]\n",
    "\n",
    "for i in nums:\n",
    "    print(i)\n",
    "\n",
    "for i in range(5):\n",
    "    print(i)"
   ]
  },
  {
   "cell_type": "code",
   "execution_count": 7,
   "metadata": {},
   "outputs": [
    {
     "name": "stdout",
     "output_type": "stream",
     "text": [
      "values han\n"
     ]
    }
   ],
   "source": [
    "arr = (0,)\n",
    "\n",
    "if arr:\n",
    "    print(\"values han\")\n",
    "else:\n",
    "    print(\"Khali hai\")"
   ]
  },
  {
   "cell_type": "code",
   "execution_count": null,
   "metadata": {},
   "outputs": [],
   "source": [
    "arr = [1,2,3,4,5]\n",
    "\n",
    "sum(arr)"
   ]
  }
 ],
 "metadata": {
  "kernelspec": {
   "display_name": "Python 3",
   "language": "python",
   "name": "python3"
  },
  "language_info": {
   "codemirror_mode": {
    "name": "ipython",
    "version": 3
   },
   "file_extension": ".py",
   "mimetype": "text/x-python",
   "name": "python",
   "nbconvert_exporter": "python",
   "pygments_lexer": "ipython3",
   "version": "3.13.2"
  }
 },
 "nbformat": 4,
 "nbformat_minor": 2
}
