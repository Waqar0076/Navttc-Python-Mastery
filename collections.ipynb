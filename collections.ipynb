{
 "cells": [
  {
   "cell_type": "markdown",
   "metadata": {},
   "source": [
    "## Indexing"
   ]
  },
  {
   "cell_type": "code",
   "execution_count": null,
   "metadata": {},
   "outputs": [
    {
     "name": "stdout",
     "output_type": "stream",
     "text": [
      "RED\n",
      "red\n",
      "6\n"
     ]
    }
   ],
   "source": [
    "colors = [\"red\",\"green\",\"blue\",1,2,3, True, False, None] # List\n",
    "print(colors[0].upper())\n",
    "print(colors[0])\n",
    "print(colors[4] * 3)"
   ]
  },
  {
   "cell_type": "code",
   "execution_count": 14,
   "metadata": {},
   "outputs": [
    {
     "name": "stdout",
     "output_type": "stream",
     "text": [
      "FARAZ AHMED\n",
      "faraz ahmed\n"
     ]
    }
   ],
   "source": [
    "name = \"faraz ahmed\"\n",
    "print(name.upper()) # copy\n",
    "print(name)"
   ]
  },
  {
   "cell_type": "code",
   "execution_count": 33,
   "metadata": {},
   "outputs": [
    {
     "name": "stdout",
     "output_type": "stream",
     "text": [
      "3\n"
     ]
    },
    {
     "data": {
      "text/plain": [
       "7"
      ]
     },
     "execution_count": 33,
     "metadata": {},
     "output_type": "execute_result"
    }
   ],
   "source": [
    "numbers = [1,2,3,4,5,6,7,8,9]\n",
    "print(numbers[2]) # normal indexing\n",
    "numbers[-3]"
   ]
  },
  {
   "cell_type": "code",
   "execution_count": 36,
   "metadata": {},
   "outputs": [
    {
     "name": "stdout",
     "output_type": "stream",
     "text": [
      "My favorite color is Red..!\n"
     ]
    }
   ],
   "source": [
    "colors = [\"red\",\"green\",\"blue\",]\n",
    "\n",
    "message = f\"My favorite color is {colors[0].title()}..!\"\n",
    "\n",
    "print(message)\n"
   ]
  },
  {
   "cell_type": "markdown",
   "metadata": {},
   "source": [
    "## Slicing\n",
    " - Start `Included`\n",
    " - Stop `Excluded`\n",
    " - Step Optional"
   ]
  },
  {
   "cell_type": "code",
   "execution_count": null,
   "metadata": {},
   "outputs": [
    {
     "name": "stdout",
     "output_type": "stream",
     "text": [
      "['orange', 'green', 'white', 'black']\n",
      "['red', 'green', 'blue', 'orange']\n"
     ]
    }
   ],
   "source": [
    "colors = [\"red\",\"green\",\"blue\",\"orange\",\"green\",\"white\",\"black\"]\n",
    "print(colors[3:])\n",
    "print(colors[:4])"
   ]
  },
  {
   "cell_type": "code",
   "execution_count": 59,
   "metadata": {},
   "outputs": [
    {
     "name": "stdout",
     "output_type": "stream",
     "text": [
      "['red', 'green', 'blue']\n",
      "['red', 'green', 'blue']\n"
     ]
    }
   ],
   "source": [
    "colors = [\"red\",\"green\",\"blue\",\"orange\",\"green\",\"white\",\"black\"]\n",
    "print(colors[-7:-4])\n",
    "print(colors[0:3])\n"
   ]
  },
  {
   "cell_type": "code",
   "execution_count": null,
   "metadata": {},
   "outputs": [
    {
     "name": "stdout",
     "output_type": "stream",
     "text": [
      "[10, 'nine', 8, 7, 'six', 5, 4, 'three', 2, 1, 'zero']\n"
     ]
    }
   ],
   "source": [
    "numbers = [\"zero\",1,2,\"three\",4,5,\"six\",7,8,\"nine\",10]\n",
    "\n",
    "# print(numbers)\n",
    "# print(numbers[:5])\n",
    "# print(numbers[-5:])\n",
    "print(numbers[::-1])"
   ]
  },
  {
   "cell_type": "markdown",
   "metadata": {},
   "source": [
    "## Applying Crud Operations Without using builtin Methods\n",
    "Crud stand for\n",
    "- Create\n",
    "- Read\n",
    "- Update\n",
    "- Delete"
   ]
  },
  {
   "cell_type": "code",
   "execution_count": 2,
   "metadata": {},
   "outputs": [
    {
     "name": "stdout",
     "output_type": "stream",
     "text": [
      "['red', 'green', 'blue']\n",
      "['Maroon', 'green']\n"
     ]
    }
   ],
   "source": [
    "colors = [\"red\", \"green\", \"blue\"]\n",
    "\n",
    "# Read by passing index number\n",
    "print(colors) \n",
    "\n",
    "# colors = \"Maroon\"   X\n",
    "colors[0] = \"Maroon\" # update by accesing element using index number\n",
    "del colors[-1]\n",
    "\n",
    "\n",
    "print(colors)"
   ]
  },
  {
   "cell_type": "code",
   "execution_count": 10,
   "metadata": {},
   "outputs": [
    {
     "data": {
      "text/plain": [
       "[0, 1, 2, 3, 4, 100, 5, 6, 7, 8, 9, 10]"
      ]
     },
     "execution_count": 10,
     "metadata": {},
     "output_type": "execute_result"
    }
   ],
   "source": [
    "arr = [0,1,2,3,4,5,6,7,8,9,10]\n",
    "arr = arr[:5] + [100] + arr[5:]\n",
    "arr"
   ]
  },
  {
   "cell_type": "code",
   "execution_count": null,
   "metadata": {},
   "outputs": [
    {
     "name": "stdout",
     "output_type": "stream",
     "text": [
      "1\n",
      "index of 0 is 0\n"
     ]
    }
   ],
   "source": [
    "numbers = [0,1,2,3,1,4,5,6,7,1,8,9]\n",
    "\n",
    "inp = int(input(\"Enter number: \"))\n",
    "\n",
    "\n",
    "if numbers.count(inp):\n",
    "    index = numbers.index(inp)\n",
    "    print(f\"index of {inp} is {index}\")\n",
    "else:\n",
    "    print(numbers.count(inp))\n",
    "    print(\"numbers is not available...!\")\n",
    "\n",
    "# print(index)\n",
    "# print(numbers[index])"
   ]
  }
 ],
 "metadata": {
  "kernelspec": {
   "display_name": "Python 3",
   "language": "python",
   "name": "python3"
  },
  "language_info": {
   "codemirror_mode": {
    "name": "ipython",
    "version": 3
   },
   "file_extension": ".py",
   "mimetype": "text/x-python",
   "name": "python",
   "nbconvert_exporter": "python",
   "pygments_lexer": "ipython3",
   "version": "3.13.2"
  }
 },
 "nbformat": 4,
 "nbformat_minor": 2
}
